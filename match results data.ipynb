{
 "cells": [
  {
   "cell_type": "code",
   "execution_count": 7,
   "metadata": {},
   "outputs": [],
   "source": [
    "import numpy as np\n",
    "import pandas as pd\n",
    "import pickle\n",
    "from selenium import webdriver\n",
    "import time\n",
    "import os\n",
    "from utils import crawling_game_results, crawling_match_url, match_df, crawling_seasons, crawling_seasons_add, crawling_all_matches"
   ]
  },
  {
   "cell_type": "code",
   "execution_count": 9,
   "metadata": {},
   "outputs": [],
   "source": [
    "# set repository path of webdriver\n",
    "path = './chromedriver'"
   ]
  },
  {
   "cell_type": "code",
   "execution_count": 14,
   "metadata": {},
   "outputs": [],
   "source": [
    "# test webdriver\n",
    "driver = webdriver.Chrome(path)\n",
    "driver.implicitly_wait(3)\n",
    "driver.get('https:/1xbet.whoscored.com/')\n",
    "driver.implicitly_wait(3)\n",
    "driver.close()"
   ]
  },
  {
   "cell_type": "code",
   "execution_count": 15,
   "metadata": {},
   "outputs": [],
   "source": [
    "# ex) Premier leauge 2021 season \n",
    "# URL : https://1xbet.whoscored.com/Regions/252/Tournaments/2/Seasons/8228\n",
    "# region number : 252\n",
    "# tournament number : 2\n",
    "# season number : 8228"
   ]
  },
  {
   "cell_type": "code",
   "execution_count": 3,
   "metadata": {},
   "outputs": [
    {
     "name": "stdout",
     "output_type": "stream",
     "text": [
      "page 33:  82%|████████████████████████████████████████████████████████████▏            | 33/40 [03:58<00:50,  7.23s/it]\n"
     ]
    }
   ],
   "source": [
    "# crawling match URLs\n",
    "match_url = crawling_match_url(path, 252, 2, 8228)"
   ]
  },
  {
   "cell_type": "code",
   "execution_count": 6,
   "metadata": {},
   "outputs": [
    {
     "data": {
      "text/plain": [
       "['https://1xbet.whoscored.com/Matches/1485299/Live/England-Premier-League-2020-2021-Liverpool-Leicester',\n",
       " 'https://1xbet.whoscored.com/Matches/1485192/Live/England-Premier-League-2020-2021-Brighton-Chelsea',\n",
       " 'https://1xbet.whoscored.com/Matches/1485394/Live/England-Premier-League-2020-2021-West-Ham-Leeds',\n",
       " 'https://1xbet.whoscored.com/Matches/1485508/Live/England-Premier-League-2020-2021-Manchester-City-Leeds',\n",
       " 'https://1xbet.whoscored.com/Matches/1485451/Live/England-Premier-League-2020-2021-Southampton-Manchester-City']"
      ]
     },
     "execution_count": 6,
     "metadata": {},
     "output_type": "execute_result"
    }
   ],
   "source": [
    "match_url[0:5]"
   ]
  },
  {
   "cell_type": "code",
   "execution_count": 8,
   "metadata": {},
   "outputs": [],
   "source": [
    "# crawling match results data\n",
    "# ex) Liverpool vs Leicester (2021)\n",
    "temp_match_url = match_url[0]\n",
    "match_result = crawling_game_results(path, match_url[0])"
   ]
  },
  {
   "cell_type": "code",
   "execution_count": 12,
   "metadata": {},
   "outputs": [
    {
     "data": {
      "text/plain": [
       "{'home_shot': '24',\n",
       " 'away_shot': '11',\n",
       " 'home_possession': '56.4',\n",
       " 'away_possession': '43.6',\n",
       " 'home_pass_success': '85',\n",
       " 'away_pass_success': '78',\n",
       " 'home_dribbles': '13',\n",
       " 'away_dribbles': '15',\n",
       " 'home_aerials_won': '13',\n",
       " 'away_aerials_won': '21',\n",
       " 'home_tackles': '9',\n",
       " 'away_tackles': '14',\n",
       " 'home_corners': '10',\n",
       " 'away_corners': '3',\n",
       " 'home_dispossessed': '11',\n",
       " 'away_dispossessed': '3',\n",
       " 'home_missing_player': 9,\n",
       " 'away_missing_player': 6,\n",
       " 'home_missing_player_rating': 6.74,\n",
       " 'away_missing_player_rating': 6.8,\n",
       " 'home': 'Liverpool',\n",
       " 'away': 'Leicester',\n",
       " 'half_home_score': '2 ',\n",
       " 'half_away_score': ' 0',\n",
       " 'full_home_score': '3 ',\n",
       " 'full_away_score': ' 0',\n",
       " 'kick_off': '19:15',\n",
       " 'date': 'Jpl, 22-Nov-20',\n",
       " 'matchup_home_goals': '14',\n",
       " 'matchup_away_goals': '6',\n",
       " 'matchup_home_wins': 'Won (83%)',\n",
       " 'matchup_draw': 'Drew (17%)',\n",
       " 'matchup_away_wins': 'Won (0%)',\n",
       " 'home_total_att': '25',\n",
       " 'away_total_att': '11',\n",
       " 'home_open_att': '17',\n",
       " 'away_open_att': '8',\n",
       " 'home_set_att': '6',\n",
       " 'away_set_att': '3',\n",
       " 'home_counter_att': '1',\n",
       " 'away_counter_att': '0',\n",
       " 'home_pk_att': '0',\n",
       " 'away_pk_att': '0',\n",
       " 'home_own_att': '1',\n",
       " 'away_own_att': '0',\n",
       " 'home_total_passes': '605',\n",
       " 'away_total_passes': '467',\n",
       " 'home_crosses_passes': '25',\n",
       " 'away_crosses_passes': '17',\n",
       " 'home_long_balls': '54',\n",
       " 'away_long_balls': '61',\n",
       " 'home_short_passes': '526',\n",
       " 'away_short_passes': '388'}"
      ]
     },
     "execution_count": 12,
     "metadata": {},
     "output_type": "execute_result"
    }
   ],
   "source": [
    "match_result"
   ]
  },
  {
   "cell_type": "code",
   "execution_count": null,
   "metadata": {},
   "outputs": [
    {
     "name": "stdout",
     "output_type": "stream",
     "text": [
      "find PL2021_match_url.csvdone\n",
      "match_url 0 : error\n"
     ]
    }
   ],
   "source": [
    "# crawling all mathces data in the league.\n",
    "crawling_all_matches(path,252,2,8228,'PL2021')"
   ]
  },
  {
   "cell_type": "code",
   "execution_count": 14,
   "metadata": {},
   "outputs": [
    {
     "data": {
      "text/html": [
       "<div>\n",
       "<style scoped>\n",
       "    .dataframe tbody tr th:only-of-type {\n",
       "        vertical-align: middle;\n",
       "    }\n",
       "\n",
       "    .dataframe tbody tr th {\n",
       "        vertical-align: top;\n",
       "    }\n",
       "\n",
       "    .dataframe thead th {\n",
       "        text-align: right;\n",
       "    }\n",
       "</style>\n",
       "<table border=\"1\" class=\"dataframe\">\n",
       "  <thead>\n",
       "    <tr style=\"text-align: right;\">\n",
       "      <th></th>\n",
       "      <th>Unnamed: 0</th>\n",
       "      <th>home_shot</th>\n",
       "      <th>away_shot</th>\n",
       "      <th>home_possession</th>\n",
       "      <th>away_possession</th>\n",
       "      <th>home_pass_success</th>\n",
       "      <th>away_pass_success</th>\n",
       "      <th>home_dribbles</th>\n",
       "      <th>away_dribbles</th>\n",
       "      <th>home_aerials_won</th>\n",
       "      <th>...</th>\n",
       "      <th>home_own_att</th>\n",
       "      <th>away_own_att</th>\n",
       "      <th>home_total_passes</th>\n",
       "      <th>away_total_passes</th>\n",
       "      <th>home_crosses_passes</th>\n",
       "      <th>away_crosses_passes</th>\n",
       "      <th>home_long_balls</th>\n",
       "      <th>away_long_balls</th>\n",
       "      <th>home_short_passes</th>\n",
       "      <th>away_short_passes</th>\n",
       "    </tr>\n",
       "  </thead>\n",
       "  <tbody>\n",
       "    <tr>\n",
       "      <th>0</th>\n",
       "      <td>0</td>\n",
       "      <td>21</td>\n",
       "      <td>5</td>\n",
       "      <td>73.5</td>\n",
       "      <td>26.5</td>\n",
       "      <td>85</td>\n",
       "      <td>64</td>\n",
       "      <td>9</td>\n",
       "      <td>5</td>\n",
       "      <td>23</td>\n",
       "      <td>...</td>\n",
       "      <td>0</td>\n",
       "      <td>0</td>\n",
       "      <td>591</td>\n",
       "      <td>215</td>\n",
       "      <td>37</td>\n",
       "      <td>9</td>\n",
       "      <td>57</td>\n",
       "      <td>51</td>\n",
       "      <td>497</td>\n",
       "      <td>155</td>\n",
       "    </tr>\n",
       "    <tr>\n",
       "      <th>1</th>\n",
       "      <td>1</td>\n",
       "      <td>11</td>\n",
       "      <td>6</td>\n",
       "      <td>54.8</td>\n",
       "      <td>45.2</td>\n",
       "      <td>86</td>\n",
       "      <td>79</td>\n",
       "      <td>14</td>\n",
       "      <td>6</td>\n",
       "      <td>21</td>\n",
       "      <td>...</td>\n",
       "      <td>0</td>\n",
       "      <td>0</td>\n",
       "      <td>579</td>\n",
       "      <td>476</td>\n",
       "      <td>30</td>\n",
       "      <td>7</td>\n",
       "      <td>62</td>\n",
       "      <td>51</td>\n",
       "      <td>486</td>\n",
       "      <td>417</td>\n",
       "    </tr>\n",
       "    <tr>\n",
       "      <th>2</th>\n",
       "      <td>2</td>\n",
       "      <td>13</td>\n",
       "      <td>9</td>\n",
       "      <td>69.2</td>\n",
       "      <td>30.8</td>\n",
       "      <td>80</td>\n",
       "      <td>60</td>\n",
       "      <td>8</td>\n",
       "      <td>10</td>\n",
       "      <td>16</td>\n",
       "      <td>...</td>\n",
       "      <td>0</td>\n",
       "      <td>0</td>\n",
       "      <td>547</td>\n",
       "      <td>243</td>\n",
       "      <td>27</td>\n",
       "      <td>11</td>\n",
       "      <td>66</td>\n",
       "      <td>73</td>\n",
       "      <td>454</td>\n",
       "      <td>159</td>\n",
       "    </tr>\n",
       "    <tr>\n",
       "      <th>3</th>\n",
       "      <td>3</td>\n",
       "      <td>14</td>\n",
       "      <td>10</td>\n",
       "      <td>47.1</td>\n",
       "      <td>52.9</td>\n",
       "      <td>85</td>\n",
       "      <td>88</td>\n",
       "      <td>6</td>\n",
       "      <td>10</td>\n",
       "      <td>12</td>\n",
       "      <td>...</td>\n",
       "      <td>0</td>\n",
       "      <td>0</td>\n",
       "      <td>500</td>\n",
       "      <td>561</td>\n",
       "      <td>18</td>\n",
       "      <td>28</td>\n",
       "      <td>53</td>\n",
       "      <td>59</td>\n",
       "      <td>429</td>\n",
       "      <td>474</td>\n",
       "    </tr>\n",
       "    <tr>\n",
       "      <th>4</th>\n",
       "      <td>4</td>\n",
       "      <td>17</td>\n",
       "      <td>4</td>\n",
       "      <td>72.7</td>\n",
       "      <td>27.3</td>\n",
       "      <td>86</td>\n",
       "      <td>64</td>\n",
       "      <td>8</td>\n",
       "      <td>3</td>\n",
       "      <td>17</td>\n",
       "      <td>...</td>\n",
       "      <td>0</td>\n",
       "      <td>0</td>\n",
       "      <td>721</td>\n",
       "      <td>270</td>\n",
       "      <td>10</td>\n",
       "      <td>10</td>\n",
       "      <td>48</td>\n",
       "      <td>57</td>\n",
       "      <td>662</td>\n",
       "      <td>203</td>\n",
       "    </tr>\n",
       "  </tbody>\n",
       "</table>\n",
       "<p>5 rows × 54 columns</p>\n",
       "</div>"
      ],
      "text/plain": [
       "   Unnamed: 0  home_shot  away_shot  home_possession  away_possession  \\\n",
       "0           0         21          5             73.5             26.5   \n",
       "1           1         11          6             54.8             45.2   \n",
       "2           2         13          9             69.2             30.8   \n",
       "3           3         14         10             47.1             52.9   \n",
       "4           4         17          4             72.7             27.3   \n",
       "\n",
       "   home_pass_success  away_pass_success  home_dribbles  away_dribbles  \\\n",
       "0                 85                 64              9              5   \n",
       "1                 86                 79             14              6   \n",
       "2                 80                 60              8             10   \n",
       "3                 85                 88              6             10   \n",
       "4                 86                 64              8              3   \n",
       "\n",
       "   home_aerials_won  ...  home_own_att  away_own_att  home_total_passes  \\\n",
       "0                23  ...             0             0                591   \n",
       "1                21  ...             0             0                579   \n",
       "2                16  ...             0             0                547   \n",
       "3                12  ...             0             0                500   \n",
       "4                17  ...             0             0                721   \n",
       "\n",
       "   away_total_passes  home_crosses_passes  away_crosses_passes  \\\n",
       "0                215                   37                    9   \n",
       "1                476                   30                    7   \n",
       "2                243                   27                   11   \n",
       "3                561                   18                   28   \n",
       "4                270                   10                   10   \n",
       "\n",
       "   home_long_balls  away_long_balls  home_short_passes  away_short_passes  \n",
       "0               57               51                497                155  \n",
       "1               62               51                486                417  \n",
       "2               66               73                454                159  \n",
       "3               53               59                429                474  \n",
       "4               48               57                662                203  \n",
       "\n",
       "[5 rows x 54 columns]"
      ]
     },
     "execution_count": 14,
     "metadata": {},
     "output_type": "execute_result"
    }
   ],
   "source": [
    "pd.read_csv('PL2021_match.csv').head()"
   ]
  }
 ],
 "metadata": {
  "kernelspec": {
   "display_name": "Python 3",
   "language": "python",
   "name": "python3"
  },
  "language_info": {
   "codemirror_mode": {
    "name": "ipython",
    "version": 3
   },
   "file_extension": ".py",
   "mimetype": "text/x-python",
   "name": "python",
   "nbconvert_exporter": "python",
   "pygments_lexer": "ipython3",
   "version": "3.8.5"
  }
 },
 "nbformat": 4,
 "nbformat_minor": 4
}
