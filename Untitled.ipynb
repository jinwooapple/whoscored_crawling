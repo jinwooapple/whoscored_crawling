{
 "cells": [
  {
   "cell_type": "code",
   "execution_count": 6,
   "metadata": {},
   "outputs": [],
   "source": [
    "import numpy as np\n",
    "import pandas as pd\n",
    "import time"
   ]
  },
  {
   "cell_type": "code",
   "execution_count": 17,
   "metadata": {},
   "outputs": [],
   "source": [
    "from tqdm import tqdm"
   ]
  },
  {
   "cell_type": "code",
   "execution_count": 18,
   "metadata": {},
   "outputs": [],
   "source": [
    "import sys"
   ]
  },
  {
   "cell_type": "code",
   "execution_count": 16,
   "metadata": {},
   "outputs": [
    {
     "name": "stdout",
     "output_type": "stream",
     "text": [
      "Requirement already satisfied: tqdm in c:\\users\\jaemini_man\\anaconda3\\lib\\site-packages (4.50.2)\n",
      "Note: you may need to restart the kernel to use updated packages.\n"
     ]
    }
   ],
   "source": [
    "pip install tqdm"
   ]
  },
  {
   "cell_type": "code",
   "execution_count": 2,
   "metadata": {},
   "outputs": [
    {
     "name": "stdout",
     "output_type": "stream",
     "text": [
      "Collecting alive-progress\n",
      "  Downloading alive_progress-2.0.0-py3-none-any.whl (72 kB)\n",
      "Collecting grapheme==0.6.0\n",
      "  Downloading grapheme-0.6.0.tar.gz (207 kB)\n",
      "Collecting about-time==3.1.1\n",
      "  Downloading about_time-3.1.1-py3-none-any.whl (9.1 kB)\n",
      "Building wheels for collected packages: grapheme\n",
      "  Building wheel for grapheme (setup.py): started\n",
      "  Building wheel for grapheme (setup.py): finished with status 'done'\n",
      "  Created wheel for grapheme: filename=grapheme-0.6.0-py3-none-any.whl size=210101 sha256=ce8b46c297c0fa74373a074f2fa6ab6c639387155a92bd0148a5b9e9c0a0a25a\n",
      "  Stored in directory: c:\\users\\jaemini_man\\appdata\\local\\pip\\cache\\wheels\\2d\\08\\6b\\126ea9009f7482fd53a78d0db2ece5aca70af8f4a30445386b\n",
      "Successfully built grapheme\n",
      "Installing collected packages: grapheme, about-time, alive-progress\n",
      "Successfully installed about-time-3.1.1 alive-progress-2.0.0 grapheme-0.6.0\n",
      "Note: you may need to restart the kernel to use updated packages.\n"
     ]
    }
   ],
   "source": [
    "pip install alive-progress"
   ]
  },
  {
   "cell_type": "code",
   "execution_count": 3,
   "metadata": {},
   "outputs": [],
   "source": [
    "from alive_progress import alive_bar"
   ]
  },
  {
   "cell_type": "code",
   "execution_count": 12,
   "metadata": {},
   "outputs": [
    {
     "name": "stdout",
     "output_type": "stream",
     "text": [
      "Note: you may need to restart the kernel to use updated packages.\n"
     ]
    },
    {
     "name": "stderr",
     "output_type": "stream",
     "text": [
      "ERROR: Could not find a version that satisfies the requirement prgoress (from versions: none)\n",
      "ERROR: No matching distribution found for prgoress\n"
     ]
    }
   ],
   "source": [
    "pip install prgoress"
   ]
  },
  {
   "cell_type": "code",
   "execution_count": 15,
   "metadata": {},
   "outputs": [],
   "source": [
    "for total in 100, 2000, 4000 :\n",
    "    with alive_bar(total) as bar:\n",
    "        for i in range(1000):\n",
    "            time.sleep(.001)\n",
    "            bar()"
   ]
  },
  {
   "cell_type": "code",
   "execution_count": 22,
   "metadata": {},
   "outputs": [
    {
     "name": "stdout",
     "output_type": "stream",
     "text": [
      "100%|██████████████████████████████████████████████████████████████████████████████| 1000/1000 [00:15<00:00, 64.76it/s]\n"
     ]
    }
   ],
   "source": [
    "with tqdm(total = 1000, file=sys.stdout) as pbar : \n",
    "    for i in range(1000):\n",
    "        pbar.update(1)\n",
    "        time.sleep(.01)"
   ]
  },
  {
   "cell_type": "code",
   "execution_count": null,
   "metadata": {},
   "outputs": [],
   "source": []
  }
 ],
 "metadata": {
  "kernelspec": {
   "display_name": "Python 3",
   "language": "python",
   "name": "python3"
  },
  "language_info": {
   "codemirror_mode": {
    "name": "ipython",
    "version": 3
   },
   "file_extension": ".py",
   "mimetype": "text/x-python",
   "name": "python",
   "nbconvert_exporter": "python",
   "pygments_lexer": "ipython3",
   "version": "3.8.5"
  }
 },
 "nbformat": 4,
 "nbformat_minor": 4
}
